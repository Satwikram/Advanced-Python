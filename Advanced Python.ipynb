{
  "nbformat": 4,
  "nbformat_minor": 0,
  "metadata": {
    "colab": {
      "name": "Advanced-Python.ipynb",
      "provenance": [],
      "collapsed_sections": [],
      "authorship_tag": "ABX9TyPhRGn/KaKgXfZaeaejeOGO",
      "include_colab_link": true
    },
    "kernelspec": {
      "name": "python3",
      "display_name": "Python 3"
    },
    "language_info": {
      "name": "python"
    },
    "accelerator": "TPU"
  },
  "cells": [
    {
      "cell_type": "markdown",
      "metadata": {
        "id": "view-in-github",
        "colab_type": "text"
      },
      "source": [
        "<a href=\"https://colab.research.google.com/github/Satwikram/Advanced-Python/blob/main/Advanced%20Python.ipynb\" target=\"_parent\"><img src=\"https://colab.research.google.com/assets/colab-badge.svg\" alt=\"Open In Colab\"/></a>"
      ]
    },
    {
      "cell_type": "markdown",
      "metadata": {
        "id": "kvd0k2X_FDmv"
      },
      "source": [
        "### Author: Satwik Ram K"
      ]
    },
    {
      "cell_type": "markdown",
      "metadata": {
        "id": "MT6Cde4h8prp"
      },
      "source": [
        "### Tuple tricks"
      ]
    },
    {
      "cell_type": "code",
      "metadata": {
        "id": "dk1CY4Di5kkR"
      },
      "source": [
        "a = (1)"
      ],
      "execution_count": null,
      "outputs": []
    },
    {
      "cell_type": "code",
      "metadata": {
        "colab": {
          "base_uri": "https://localhost:8080/"
        },
        "id": "V6sd8W-35wTr",
        "outputId": "ab44d88c-c92b-4b08-8dd0-502bc1a8554f"
      },
      "source": [
        "type(a)"
      ],
      "execution_count": null,
      "outputs": [
        {
          "output_type": "execute_result",
          "data": {
            "text/plain": [
              "int"
            ]
          },
          "metadata": {
            "tags": []
          },
          "execution_count": 7
        }
      ]
    },
    {
      "cell_type": "markdown",
      "metadata": {
        "id": "Xy9FUCDU-x4X"
      },
      "source": [
        "### Collections"
      ]
    },
    {
      "cell_type": "markdown",
      "metadata": {
        "id": "laI-u_71arm9"
      },
      "source": [
        "#### Counter"
      ]
    },
    {
      "cell_type": "code",
      "metadata": {
        "id": "pBhvbvb79P1x"
      },
      "source": [
        "from collections import Counter"
      ],
      "execution_count": null,
      "outputs": []
    },
    {
      "cell_type": "code",
      "metadata": {
        "id": "oMxJ2mjx_SOv"
      },
      "source": [
        "test = \"abababbaaaaaaaavvvv\""
      ],
      "execution_count": null,
      "outputs": []
    },
    {
      "cell_type": "code",
      "metadata": {
        "colab": {
          "base_uri": "https://localhost:8080/"
        },
        "id": "QFh1Dr-uBQkI",
        "outputId": "a308cef3-abbf-4a3b-a6b9-1e5d3f93c545"
      },
      "source": [
        "Counter(test)"
      ],
      "execution_count": null,
      "outputs": [
        {
          "output_type": "execute_result",
          "data": {
            "text/plain": [
              "Counter({'a': 11, 'b': 4, 'v': 4})"
            ]
          },
          "metadata": {
            "tags": []
          },
          "execution_count": 10
        }
      ]
    },
    {
      "cell_type": "code",
      "metadata": {
        "colab": {
          "base_uri": "https://localhost:8080/"
        },
        "id": "wPNCPFiCBSZL",
        "outputId": "df6bff66-12f6-4ccb-94c1-88a4cc16cda6"
      },
      "source": [
        "Counter(test).items()"
      ],
      "execution_count": null,
      "outputs": [
        {
          "output_type": "execute_result",
          "data": {
            "text/plain": [
              "dict_items([('a', 11), ('b', 4), ('v', 4)])"
            ]
          },
          "metadata": {
            "tags": []
          },
          "execution_count": 11
        }
      ]
    },
    {
      "cell_type": "code",
      "metadata": {
        "id": "CzQwJ1goBbtq"
      },
      "source": [
        "counter = Counter(test)"
      ],
      "execution_count": null,
      "outputs": []
    },
    {
      "cell_type": "code",
      "metadata": {
        "colab": {
          "base_uri": "https://localhost:8080/"
        },
        "id": "M-VlbiS2B6Il",
        "outputId": "d04bde23-5872-4c4c-b590-07cb6fc64540"
      },
      "source": [
        "counter.most_common(1)[0]"
      ],
      "execution_count": null,
      "outputs": [
        {
          "output_type": "execute_result",
          "data": {
            "text/plain": [
              "('a', 11)"
            ]
          },
          "metadata": {
            "tags": []
          },
          "execution_count": 13
        }
      ]
    },
    {
      "cell_type": "code",
      "metadata": {
        "colab": {
          "base_uri": "https://localhost:8080/"
        },
        "id": "gNH_r6hAB84V",
        "outputId": "eb2e4771-72d1-4247-d140-5561be7f8f8a"
      },
      "source": [
        "counter.values()"
      ],
      "execution_count": null,
      "outputs": [
        {
          "output_type": "execute_result",
          "data": {
            "text/plain": [
              "dict_values([11, 4, 4])"
            ]
          },
          "metadata": {
            "tags": []
          },
          "execution_count": 14
        }
      ]
    },
    {
      "cell_type": "markdown",
      "metadata": {
        "id": "4r9OUf3lawDY"
      },
      "source": [
        "#### NamedTuple"
      ]
    },
    {
      "cell_type": "code",
      "metadata": {
        "id": "SOluO01TCCcK"
      },
      "source": [
        "from collections import namedtuple"
      ],
      "execution_count": null,
      "outputs": []
    },
    {
      "cell_type": "code",
      "metadata": {
        "id": "-ZpxlCoAZYt0"
      },
      "source": [
        "Point = namedtuple('Point', 'x,y')"
      ],
      "execution_count": null,
      "outputs": []
    },
    {
      "cell_type": "code",
      "metadata": {
        "id": "JKXp1UbCZihC"
      },
      "source": [
        "pt = Point(1, -4)"
      ],
      "execution_count": null,
      "outputs": []
    },
    {
      "cell_type": "code",
      "metadata": {
        "colab": {
          "base_uri": "https://localhost:8080/"
        },
        "id": "ZsDSPMXuZorX",
        "outputId": "de433cec-afef-4e0b-8ab6-69e794920d25"
      },
      "source": [
        "pt.x, pt.y"
      ],
      "execution_count": null,
      "outputs": [
        {
          "output_type": "execute_result",
          "data": {
            "text/plain": [
              "(1, -4)"
            ]
          },
          "metadata": {
            "tags": []
          },
          "execution_count": 26
        }
      ]
    },
    {
      "cell_type": "markdown",
      "metadata": {
        "id": "vH9K7V7na0Q6"
      },
      "source": [
        "#### OrderedDict"
      ]
    },
    {
      "cell_type": "code",
      "metadata": {
        "id": "ZaFkJLnYZtxe"
      },
      "source": [
        "from collections import OrderedDict"
      ],
      "execution_count": null,
      "outputs": []
    },
    {
      "cell_type": "code",
      "metadata": {
        "id": "tIQicDoQaADi"
      },
      "source": [
        "order = OrderedDict()"
      ],
      "execution_count": null,
      "outputs": []
    },
    {
      "cell_type": "code",
      "metadata": {
        "id": "Y2ANVErgaEYm"
      },
      "source": [
        "order['a'] = 1\n",
        "order['b'] = 3"
      ],
      "execution_count": null,
      "outputs": []
    },
    {
      "cell_type": "code",
      "metadata": {
        "colab": {
          "base_uri": "https://localhost:8080/"
        },
        "id": "aQcYUm9DaKcd",
        "outputId": "a817d174-760e-43e1-ca2d-9985c7ec4935"
      },
      "source": [
        "order"
      ],
      "execution_count": null,
      "outputs": [
        {
          "output_type": "execute_result",
          "data": {
            "text/plain": [
              "OrderedDict([('a', 1), ('b', 3)])"
            ]
          },
          "metadata": {
            "tags": []
          },
          "execution_count": 30
        }
      ]
    },
    {
      "cell_type": "markdown",
      "metadata": {
        "id": "2JRksMGma4jB"
      },
      "source": [
        "#### DefaultDict"
      ]
    },
    {
      "cell_type": "code",
      "metadata": {
        "id": "iVMx-K_DaLja"
      },
      "source": [
        "from collections import defaultdict"
      ],
      "execution_count": null,
      "outputs": []
    },
    {
      "cell_type": "code",
      "metadata": {
        "id": "2ffTj5U8aQg1"
      },
      "source": [
        "d = defaultdict(int)"
      ],
      "execution_count": null,
      "outputs": []
    },
    {
      "cell_type": "code",
      "metadata": {
        "id": "QfF3yiK3aUl5"
      },
      "source": [
        "d['a'] = 1"
      ],
      "execution_count": null,
      "outputs": []
    },
    {
      "cell_type": "code",
      "metadata": {
        "colab": {
          "base_uri": "https://localhost:8080/"
        },
        "id": "AN8EVtZ4aZ9D",
        "outputId": "676dd5a5-7988-4154-e086-c9d0fd296253"
      },
      "source": [
        "d['s'] #Won't raise the issues, it returns default value"
      ],
      "execution_count": null,
      "outputs": [
        {
          "output_type": "execute_result",
          "data": {
            "text/plain": [
              "0"
            ]
          },
          "metadata": {
            "tags": []
          },
          "execution_count": 37
        }
      ]
    },
    {
      "cell_type": "markdown",
      "metadata": {
        "id": "5q-PmhYCa9_M"
      },
      "source": [
        "#### Deque"
      ]
    },
    {
      "cell_type": "code",
      "metadata": {
        "id": "vBjq0AgmacCC"
      },
      "source": [
        "from collections import deque"
      ],
      "execution_count": 9,
      "outputs": []
    },
    {
      "cell_type": "code",
      "metadata": {
        "id": "_CcjWz-ebGc3"
      },
      "source": [
        "dq = deque()"
      ],
      "execution_count": 10,
      "outputs": []
    },
    {
      "cell_type": "code",
      "metadata": {
        "id": "pOeeYDZ_bJRv"
      },
      "source": [
        "dq.append(1)\n",
        "dq.append(2)"
      ],
      "execution_count": 11,
      "outputs": []
    },
    {
      "cell_type": "code",
      "metadata": {
        "colab": {
          "base_uri": "https://localhost:8080/"
        },
        "id": "9GA9uL3ubn6i",
        "outputId": "a9181daf-b2a8-4f00-b699-b5db51b035cd"
      },
      "source": [
        "dq"
      ],
      "execution_count": 12,
      "outputs": [
        {
          "output_type": "execute_result",
          "data": {
            "text/plain": [
              "deque([1, 2])"
            ]
          },
          "metadata": {
            "tags": []
          },
          "execution_count": 12
        }
      ]
    },
    {
      "cell_type": "code",
      "metadata": {
        "id": "ar7KvIvObMzJ"
      },
      "source": [
        "dq.rotate(-1)"
      ],
      "execution_count": 13,
      "outputs": []
    },
    {
      "cell_type": "code",
      "metadata": {
        "colab": {
          "base_uri": "https://localhost:8080/"
        },
        "id": "p4vmagr7bqlL",
        "outputId": "2cabd54b-e630-4578-bb00-0d312f0c0c9e"
      },
      "source": [
        "dq"
      ],
      "execution_count": 14,
      "outputs": [
        {
          "output_type": "execute_result",
          "data": {
            "text/plain": [
              "deque([2, 1])"
            ]
          },
          "metadata": {
            "tags": []
          },
          "execution_count": 14
        }
      ]
    },
    {
      "cell_type": "markdown",
      "metadata": {
        "id": "MZ1Ieacyb0V7"
      },
      "source": [
        "### Itertools"
      ]
    },
    {
      "cell_type": "markdown",
      "metadata": {
        "id": "B_-WjRfXeq2Z"
      },
      "source": [
        "#### Product"
      ]
    },
    {
      "cell_type": "code",
      "metadata": {
        "id": "SVWfYKWAbbzD"
      },
      "source": [
        "from itertools import product"
      ],
      "execution_count": null,
      "outputs": []
    },
    {
      "cell_type": "code",
      "metadata": {
        "id": "BClhkRVyb6qC"
      },
      "source": [
        "a = [1, 2]\n",
        "b = [3, 4]"
      ],
      "execution_count": null,
      "outputs": []
    },
    {
      "cell_type": "code",
      "metadata": {
        "id": "cfEqHRIbb_L1"
      },
      "source": [
        "list(product(a, b))"
      ],
      "execution_count": null,
      "outputs": []
    },
    {
      "cell_type": "markdown",
      "metadata": {
        "id": "Lv3UZb0VetpK"
      },
      "source": [
        "#### Permutations"
      ]
    },
    {
      "cell_type": "code",
      "metadata": {
        "id": "YK095ICTcBWu"
      },
      "source": [
        "from itertools import permutations"
      ],
      "execution_count": null,
      "outputs": []
    },
    {
      "cell_type": "code",
      "metadata": {
        "id": "i1S_xrBFcVk4"
      },
      "source": [
        "a = [1,2,3]"
      ],
      "execution_count": null,
      "outputs": []
    },
    {
      "cell_type": "code",
      "metadata": {
        "id": "WssZG9FRcO-g"
      },
      "source": [
        "list(permutations(a))"
      ],
      "execution_count": null,
      "outputs": []
    },
    {
      "cell_type": "markdown",
      "metadata": {
        "id": "Sx3mFbyGew7c"
      },
      "source": [
        "#### Combinations"
      ]
    },
    {
      "cell_type": "code",
      "metadata": {
        "id": "lkZKgYfzcRj5"
      },
      "source": [
        "from itertools import combinations, combinations_with_replacement"
      ],
      "execution_count": 21,
      "outputs": []
    },
    {
      "cell_type": "code",
      "metadata": {
        "colab": {
          "base_uri": "https://localhost:8080/"
        },
        "id": "ltXEcTsGci-y",
        "outputId": "daad2c45-c73e-4505-f697-66d7c6929e2c"
      },
      "source": [
        "list(combinations(a, 2))"
      ],
      "execution_count": 22,
      "outputs": [
        {
          "output_type": "execute_result",
          "data": {
            "text/plain": [
              "[(1, 2), (1, 3), (2, 3)]"
            ]
          },
          "metadata": {
            "tags": []
          },
          "execution_count": 22
        }
      ]
    },
    {
      "cell_type": "code",
      "metadata": {
        "colab": {
          "base_uri": "https://localhost:8080/"
        },
        "id": "2G0lYMoYck9_",
        "outputId": "afb2009d-bc2b-43bc-9ff6-97d47b8ba623"
      },
      "source": [
        "list(combinations_with_replacement(a, 2))"
      ],
      "execution_count": 23,
      "outputs": [
        {
          "output_type": "execute_result",
          "data": {
            "text/plain": [
              "[(1, 1), (1, 2), (1, 3), (2, 2), (2, 3), (3, 3)]"
            ]
          },
          "metadata": {
            "tags": []
          },
          "execution_count": 23
        }
      ]
    },
    {
      "cell_type": "markdown",
      "metadata": {
        "id": "1IG7X-jTe0GT"
      },
      "source": [
        "#### Accumulate"
      ]
    },
    {
      "cell_type": "code",
      "metadata": {
        "id": "HKX6cmLhc49d"
      },
      "source": [
        "from itertools import accumulate"
      ],
      "execution_count": 24,
      "outputs": []
    },
    {
      "cell_type": "code",
      "metadata": {
        "colab": {
          "base_uri": "https://localhost:8080/"
        },
        "id": "4Q3AzqjvdAHH",
        "outputId": "e3da8030-7aae-4b1e-f181-24394fe6550b"
      },
      "source": [
        "a, list(accumulate(a))"
      ],
      "execution_count": 25,
      "outputs": [
        {
          "output_type": "execute_result",
          "data": {
            "text/plain": [
              "([1, 2, 3], [1, 3, 6])"
            ]
          },
          "metadata": {
            "tags": []
          },
          "execution_count": 25
        }
      ]
    },
    {
      "cell_type": "markdown",
      "metadata": {
        "id": "_-mnEEBye2xx"
      },
      "source": [
        "#### Count, Repeat, Cycle"
      ]
    },
    {
      "cell_type": "code",
      "metadata": {
        "id": "bMJ_EREjdDJS"
      },
      "source": [
        "from itertools import count, repeat, cycle"
      ],
      "execution_count": 26,
      "outputs": []
    },
    {
      "cell_type": "code",
      "metadata": {
        "id": "S5_dj5QfeS2X"
      },
      "source": [
        "for i in repeat(1):\n",
        "  print(i) # Repeats infinite"
      ],
      "execution_count": 27,
      "outputs": []
    },
    {
      "cell_type": "markdown",
      "metadata": {
        "id": "s2MtTjpRe-8K"
      },
      "source": [
        "### Lambda Functions"
      ]
    },
    {
      "cell_type": "markdown",
      "metadata": {
        "id": "sWlUKAZTfmOO"
      },
      "source": [
        "#### Basic Lambda"
      ]
    },
    {
      "cell_type": "code",
      "metadata": {
        "id": "iUmt4rYDeWv6"
      },
      "source": [
        "mult = lambda x, y: x*y"
      ],
      "execution_count": null,
      "outputs": []
    },
    {
      "cell_type": "code",
      "metadata": {
        "colab": {
          "base_uri": "https://localhost:8080/"
        },
        "id": "9A8ZyPR6fLyN",
        "outputId": "05d120b6-6a71-4c32-ea55-aea0f8c9a3af"
      },
      "source": [
        "mult(2, 100)"
      ],
      "execution_count": null,
      "outputs": [
        {
          "output_type": "execute_result",
          "data": {
            "text/plain": [
              "200"
            ]
          },
          "metadata": {
            "tags": []
          },
          "execution_count": 87
        }
      ]
    },
    {
      "cell_type": "markdown",
      "metadata": {
        "id": "iEid_vx_foWV"
      },
      "source": [
        "#### Sorted"
      ]
    },
    {
      "cell_type": "code",
      "metadata": {
        "id": "bx1HjFTrfOuX"
      },
      "source": [
        "points2d = [(1, 3), (1, -5), (-1, 3)]"
      ],
      "execution_count": null,
      "outputs": []
    },
    {
      "cell_type": "code",
      "metadata": {
        "colab": {
          "base_uri": "https://localhost:8080/"
        },
        "id": "I-IVg5h6fk36",
        "outputId": "83f34d06-e52c-4be1-c240-2c1da77f28d6"
      },
      "source": [
        "sorted(points2d)"
      ],
      "execution_count": null,
      "outputs": [
        {
          "output_type": "execute_result",
          "data": {
            "text/plain": [
              "[(-1, 3), (1, -5), (1, 3)]"
            ]
          },
          "metadata": {
            "tags": []
          },
          "execution_count": 92
        }
      ]
    },
    {
      "cell_type": "code",
      "metadata": {
        "colab": {
          "base_uri": "https://localhost:8080/"
        },
        "id": "k694JnURfsI1",
        "outputId": "b03b164d-c267-455c-cd41-0d76f5c2e45e"
      },
      "source": [
        "sorted(points2d, key = lambda x: x[1])"
      ],
      "execution_count": null,
      "outputs": [
        {
          "output_type": "execute_result",
          "data": {
            "text/plain": [
              "[(1, -5), (1, 3), (-1, 3)]"
            ]
          },
          "metadata": {
            "tags": []
          },
          "execution_count": 93
        }
      ]
    },
    {
      "cell_type": "markdown",
      "metadata": {
        "id": "YK-j7h5IgSny"
      },
      "source": [
        "### Map"
      ]
    },
    {
      "cell_type": "code",
      "metadata": {
        "id": "ETy6gHRmf7VE"
      },
      "source": [
        "m = [1, 2, 3, 4, 5]"
      ],
      "execution_count": null,
      "outputs": []
    },
    {
      "cell_type": "code",
      "metadata": {
        "id": "70fKjar4gXNa"
      },
      "source": [
        "fun = map(lambda x: x*2, m)"
      ],
      "execution_count": null,
      "outputs": []
    },
    {
      "cell_type": "code",
      "metadata": {
        "colab": {
          "base_uri": "https://localhost:8080/"
        },
        "id": "Y8kr58SZgdBz",
        "outputId": "0917e652-8131-49f9-8c9d-6859e7531f28"
      },
      "source": [
        "list(fun)"
      ],
      "execution_count": null,
      "outputs": [
        {
          "output_type": "execute_result",
          "data": {
            "text/plain": [
              "[2, 4, 6, 8, 10]"
            ]
          },
          "metadata": {
            "tags": []
          },
          "execution_count": 97
        }
      ]
    },
    {
      "cell_type": "markdown",
      "metadata": {
        "id": "W1i1FwsuhvMi"
      },
      "source": [
        "#### filter"
      ]
    },
    {
      "cell_type": "code",
      "metadata": {
        "id": "RvdEYkEigduX"
      },
      "source": [
        "fil = filter(lambda x: x%2 == 0, m)"
      ],
      "execution_count": null,
      "outputs": []
    },
    {
      "cell_type": "code",
      "metadata": {
        "colab": {
          "base_uri": "https://localhost:8080/"
        },
        "id": "STb56Fbag4sP",
        "outputId": "8dd8a4db-62da-4797-a407-2146089b6a25"
      },
      "source": [
        "list(fil)"
      ],
      "execution_count": null,
      "outputs": [
        {
          "output_type": "execute_result",
          "data": {
            "text/plain": [
              "[2, 4]"
            ]
          },
          "metadata": {
            "tags": []
          },
          "execution_count": 99
        }
      ]
    },
    {
      "cell_type": "code",
      "metadata": {
        "colab": {
          "base_uri": "https://localhost:8080/"
        },
        "id": "u_ahrOTZg58U",
        "outputId": "eeae636f-75ef-4c98-cc92-227ef4968ca9"
      },
      "source": [
        "[i for i in m if i % 2 == 0] #List method"
      ],
      "execution_count": null,
      "outputs": [
        {
          "output_type": "execute_result",
          "data": {
            "text/plain": [
              "[2, 4]"
            ]
          },
          "metadata": {
            "tags": []
          },
          "execution_count": 102
        }
      ]
    },
    {
      "cell_type": "markdown",
      "metadata": {
        "id": "Qviy-u-ChSGj"
      },
      "source": [
        "### Functools"
      ]
    },
    {
      "cell_type": "code",
      "metadata": {
        "id": "bXBBp0XJhBu6"
      },
      "source": [
        "from functools import reduce"
      ],
      "execution_count": null,
      "outputs": []
    },
    {
      "cell_type": "code",
      "metadata": {
        "colab": {
          "base_uri": "https://localhost:8080/"
        },
        "id": "Eegl7RtGhU8s",
        "outputId": "b0c26cd6-6e49-4e57-ec35-31cfce5d1aa9"
      },
      "source": [
        "reduce(lambda x, y: x*y, m)"
      ],
      "execution_count": null,
      "outputs": [
        {
          "output_type": "execute_result",
          "data": {
            "text/plain": [
              "120"
            ]
          },
          "metadata": {
            "tags": []
          },
          "execution_count": 105
        }
      ]
    },
    {
      "cell_type": "markdown",
      "metadata": {
        "id": "_A00QiBRiC1E"
      },
      "source": [
        "### Exceptions"
      ]
    },
    {
      "cell_type": "code",
      "metadata": {
        "id": "3TmxAYgGhaRD"
      },
      "source": [
        "e = 7"
      ],
      "execution_count": null,
      "outputs": []
    },
    {
      "cell_type": "markdown",
      "metadata": {
        "id": "nc6lC4Ikiv3l"
      },
      "source": [
        "#### Exception raise"
      ]
    },
    {
      "cell_type": "code",
      "metadata": {
        "colab": {
          "base_uri": "https://localhost:8080/",
          "height": 183
        },
        "id": "q0iwXGKiidnL",
        "outputId": "7a20c570-e953-4bbd-9793-d27142516220"
      },
      "source": [
        "if e > 5:\n",
        "  raise Exception(\"Greater than 5 not supported\")"
      ],
      "execution_count": null,
      "outputs": [
        {
          "output_type": "error",
          "ename": "Exception",
          "evalue": "ignored",
          "traceback": [
            "\u001b[0;31m---------------------------------------------------------------------------\u001b[0m",
            "\u001b[0;31mException\u001b[0m                                 Traceback (most recent call last)",
            "\u001b[0;32m<ipython-input-109-093f4bca234d>\u001b[0m in \u001b[0;36m<module>\u001b[0;34m()\u001b[0m\n\u001b[1;32m      1\u001b[0m \u001b[0;32mif\u001b[0m \u001b[0me\u001b[0m \u001b[0;34m>\u001b[0m \u001b[0;36m5\u001b[0m\u001b[0;34m:\u001b[0m\u001b[0;34m\u001b[0m\u001b[0;34m\u001b[0m\u001b[0m\n\u001b[0;32m----> 2\u001b[0;31m   \u001b[0;32mraise\u001b[0m \u001b[0mException\u001b[0m\u001b[0;34m(\u001b[0m\u001b[0;34m\"Greater than 5 not supported\"\u001b[0m\u001b[0;34m)\u001b[0m\u001b[0;34m\u001b[0m\u001b[0;34m\u001b[0m\u001b[0m\n\u001b[0m",
            "\u001b[0;31mException\u001b[0m: Greater than 5 not supported"
          ]
        }
      ]
    },
    {
      "cell_type": "markdown",
      "metadata": {
        "id": "_A7u3IcaizPu"
      },
      "source": [
        "#### Assert"
      ]
    },
    {
      "cell_type": "code",
      "metadata": {
        "id": "-jY743_4jDnh"
      },
      "source": [
        "e = -1"
      ],
      "execution_count": null,
      "outputs": []
    },
    {
      "cell_type": "code",
      "metadata": {
        "colab": {
          "base_uri": "https://localhost:8080/",
          "height": 166
        },
        "id": "zp_KS_9Qikz2",
        "outputId": "b1b757dd-7d4c-4231-a0bf-9ce4f00a4f7f"
      },
      "source": [
        "assert(e < 0), \"Only Positive\""
      ],
      "execution_count": null,
      "outputs": [
        {
          "output_type": "error",
          "ename": "AssertionError",
          "evalue": "ignored",
          "traceback": [
            "\u001b[0;31m---------------------------------------------------------------------------\u001b[0m",
            "\u001b[0;31mAssertionError\u001b[0m                            Traceback (most recent call last)",
            "\u001b[0;32m<ipython-input-112-661ac9f3031d>\u001b[0m in \u001b[0;36m<module>\u001b[0;34m()\u001b[0m\n\u001b[0;32m----> 1\u001b[0;31m \u001b[0;32massert\u001b[0m\u001b[0;34m(\u001b[0m\u001b[0me\u001b[0m \u001b[0;34m<\u001b[0m \u001b[0;36m0\u001b[0m\u001b[0;34m)\u001b[0m\u001b[0;34m,\u001b[0m \u001b[0;34m\"Only Positive\"\u001b[0m\u001b[0;34m\u001b[0m\u001b[0;34m\u001b[0m\u001b[0m\n\u001b[0m",
            "\u001b[0;31mAssertionError\u001b[0m: Only Positive"
          ]
        }
      ]
    },
    {
      "cell_type": "markdown",
      "metadata": {
        "id": "fWdLB2Wjkoga"
      },
      "source": [
        "### Logging"
      ]
    },
    {
      "cell_type": "markdown",
      "metadata": {
        "id": "cA93X922vkcu"
      },
      "source": [
        "#### Basic Logger"
      ]
    },
    {
      "cell_type": "code",
      "metadata": {
        "id": "meaBWi7Ni8Qf"
      },
      "source": [
        "import logging"
      ],
      "execution_count": null,
      "outputs": []
    },
    {
      "cell_type": "code",
      "metadata": {
        "id": "WloJJEaAk6vJ"
      },
      "source": [
        "logger = logging.getLogger(__name__)"
      ],
      "execution_count": null,
      "outputs": []
    },
    {
      "cell_type": "code",
      "metadata": {
        "id": "xNsrNYVNlsnP"
      },
      "source": [
        "logger.info(\"Hello\")"
      ],
      "execution_count": null,
      "outputs": []
    },
    {
      "cell_type": "code",
      "metadata": {
        "colab": {
          "base_uri": "https://localhost:8080/"
        },
        "id": "dKzVNYRAlupL",
        "outputId": "75f0781d-b8a6-455e-ebf5-f69d39616ef0"
      },
      "source": [
        "try:\n",
        "  print(1/0)\n",
        "\n",
        "except Exception as e:\n",
        "  logging.error(e, exc_info = True)\n",
        "\n",
        "print(\"okay\")"
      ],
      "execution_count": null,
      "outputs": [
        {
          "output_type": "stream",
          "text": [
            "ERROR:root:division by zero\n",
            "Traceback (most recent call last):\n",
            "  File \"<ipython-input-117-26dfd842b358>\", line 2, in <module>\n",
            "    print(1/0)\n",
            "ZeroDivisionError: division by zero\n"
          ],
          "name": "stderr"
        },
        {
          "output_type": "stream",
          "text": [
            "okay\n"
          ],
          "name": "stdout"
        }
      ]
    },
    {
      "cell_type": "markdown",
      "metadata": {
        "id": "pLr-a3RzvfFr"
      },
      "source": [
        "#### Rotating File Handler"
      ]
    },
    {
      "cell_type": "code",
      "metadata": {
        "id": "0VeAq5f0nvIe"
      },
      "source": [
        "from logging.handlers import RotatingFileHandler"
      ],
      "execution_count": null,
      "outputs": []
    },
    {
      "cell_type": "code",
      "metadata": {
        "id": "9kQ6zK6aqAfS"
      },
      "source": [
        "logger = logging.getLogger(__name__)\n",
        "logger.setLevel(logging.DEBUG)"
      ],
      "execution_count": null,
      "outputs": []
    },
    {
      "cell_type": "code",
      "metadata": {
        "id": "rW47vISCoqqu"
      },
      "source": [
        "handler = RotatingFileHandler('app2.txt')"
      ],
      "execution_count": null,
      "outputs": []
    },
    {
      "cell_type": "code",
      "metadata": {
        "id": "HoYcDiFEo-PL"
      },
      "source": [
        "logger.addHandler(handler)\n",
        "logger.propagate = False"
      ],
      "execution_count": null,
      "outputs": []
    },
    {
      "cell_type": "code",
      "metadata": {
        "id": "6KxLZcv6pKBb"
      },
      "source": [
        "try:\n",
        "  print(1/0)\n",
        "\n",
        "except Exception as e:\n",
        "  logger.error(e, exc_info = True)\n",
        "\n",
        "try:\n",
        "  '1'+1\n",
        "except Exception as e:\n",
        "  logger.info(\"\\n\")\n",
        "  logger.error(e, exc_info = True)"
      ],
      "execution_count": null,
      "outputs": []
    },
    {
      "cell_type": "markdown",
      "metadata": {
        "id": "WSVKWO_vzwMp"
      },
      "source": [
        "### Decorators"
      ]
    },
    {
      "cell_type": "code",
      "metadata": {
        "colab": {
          "base_uri": "https://localhost:8080/"
        },
        "id": "anjetZJm3oqQ",
        "outputId": "4197adcd-14ae-4991-f67e-e101596c6f9e"
      },
      "source": [
        "def decorate_message(fun):\n",
        "\n",
        "    # Nested function\n",
        "    def addWelcome(site_name):\n",
        "        return \"Welcome to \" + fun(site_name)\n",
        "\n",
        "    # Decorator returns a function\n",
        "    return addWelcome\n",
        "\n",
        "@decorate_message\n",
        "def site(site_name):\n",
        "    return site_name;\n",
        "\n",
        "print(site(\"StackOverflow\"))"
      ],
      "execution_count": null,
      "outputs": [
        {
          "output_type": "stream",
          "text": [
            "Welcome to StackOverflow\n"
          ],
          "name": "stdout"
        }
      ]
    },
    {
      "cell_type": "markdown",
      "metadata": {
        "id": "G4WI1nug34bJ"
      },
      "source": [
        "### Generators"
      ]
    },
    {
      "cell_type": "code",
      "metadata": {
        "id": "ecKAR2u72gys"
      },
      "source": [
        "def mygenerator():\n",
        "\n",
        "  yield 1\n",
        "  yield 2\n",
        "  yield 3"
      ],
      "execution_count": null,
      "outputs": []
    },
    {
      "cell_type": "code",
      "metadata": {
        "id": "g_rMPcUG4M4d"
      },
      "source": [
        "g1 = mygenerator()"
      ],
      "execution_count": null,
      "outputs": []
    },
    {
      "cell_type": "code",
      "metadata": {
        "colab": {
          "base_uri": "https://localhost:8080/",
          "height": 235
        },
        "id": "_k7BxejY4OsS",
        "outputId": "d3a1133a-6d32-4434-8093-be2eaf5ae895"
      },
      "source": [
        "while True:\n",
        "  print(next(g1))"
      ],
      "execution_count": null,
      "outputs": [
        {
          "output_type": "stream",
          "text": [
            "1\n",
            "2\n",
            "3\n"
          ],
          "name": "stdout"
        },
        {
          "output_type": "error",
          "ename": "StopIteration",
          "evalue": "ignored",
          "traceback": [
            "\u001b[0;31m---------------------------------------------------------------------------\u001b[0m",
            "\u001b[0;31mStopIteration\u001b[0m                             Traceback (most recent call last)",
            "\u001b[0;32m<ipython-input-192-7c94ed305414>\u001b[0m in \u001b[0;36m<module>\u001b[0;34m()\u001b[0m\n\u001b[1;32m      1\u001b[0m \u001b[0;32mwhile\u001b[0m \u001b[0;32mTrue\u001b[0m\u001b[0;34m:\u001b[0m\u001b[0;34m\u001b[0m\u001b[0;34m\u001b[0m\u001b[0m\n\u001b[0;32m----> 2\u001b[0;31m   \u001b[0mprint\u001b[0m\u001b[0;34m(\u001b[0m\u001b[0mnext\u001b[0m\u001b[0;34m(\u001b[0m\u001b[0mg1\u001b[0m\u001b[0;34m)\u001b[0m\u001b[0;34m)\u001b[0m\u001b[0;34m\u001b[0m\u001b[0;34m\u001b[0m\u001b[0m\n\u001b[0m",
            "\u001b[0;31mStopIteration\u001b[0m: "
          ]
        }
      ]
    },
    {
      "cell_type": "code",
      "metadata": {
        "id": "wcuCAwBz6bfB"
      },
      "source": [
        "import time\n",
        "import sys"
      ],
      "execution_count": null,
      "outputs": []
    },
    {
      "cell_type": "code",
      "metadata": {
        "id": "YHGX40w54PnN"
      },
      "source": [
        "def myfirstnnum(n):\n",
        "\n",
        "  nums = []\n",
        "  num = 0\n",
        "  while num < n:\n",
        "    nums.append(num)\n",
        "    num = num + 1\n",
        "\n",
        "  print(nums)"
      ],
      "execution_count": null,
      "outputs": []
    },
    {
      "cell_type": "code",
      "metadata": {
        "id": "xDlJvM666weh"
      },
      "source": [
        "st = time.time()\n",
        "myfirstnnum(100000)\n",
        "print(time.time() - st)"
      ],
      "execution_count": null,
      "outputs": []
    },
    {
      "cell_type": "code",
      "metadata": {
        "id": "Ph_TbEkC69Ol"
      },
      "source": [
        "def first_n_gen(n):\n",
        "\n",
        "  num = 0\n",
        "  while num < n:\n",
        "    yield num\n",
        "    num = num + 1"
      ],
      "execution_count": null,
      "outputs": []
    },
    {
      "cell_type": "code",
      "metadata": {
        "id": "OQg0RxbI8SVC"
      },
      "source": [
        "st = time.time()\n",
        "print(list(first_n_gen(100000)))\n",
        "print(time.time() - st)"
      ],
      "execution_count": null,
      "outputs": []
    },
    {
      "cell_type": "code",
      "metadata": {
        "id": "OiWJtCXe8UcE"
      },
      "source": [
        "print(sys.getsizeof(myfirstnnum(1000)))\n",
        "print(sys.getsizeof(first_n_gen(1000)))"
      ],
      "execution_count": null,
      "outputs": []
    },
    {
      "cell_type": "markdown",
      "metadata": {
        "id": "dHYkG0gtKnXO"
      },
      "source": [
        "### Advanced OOPS"
      ]
    },
    {
      "cell_type": "code",
      "metadata": {
        "id": "VscOCipU-G1D"
      },
      "source": [
        "class A:\n",
        "    \n",
        "    def __init__(self):\n",
        "        self.a = 1\n",
        "        self.b = 2"
      ],
      "execution_count": 1,
      "outputs": []
    },
    {
      "cell_type": "code",
      "metadata": {
        "id": "hPYuLm-3K5mm"
      },
      "source": [
        "class B(A):\n",
        "    \n",
        "    def __init__(self, class_a):\n",
        "        \n",
        "        self.a = class_a.a\n",
        "        self.b = class_a.b\n",
        "        self.c = self.add()\n",
        "        \n",
        "    def add(self):\n",
        "        \n",
        "        return self.a + self.b\n",
        "        \n",
        "    def printf(self):\n",
        "        \n",
        "        print(self.c)"
      ],
      "execution_count": 2,
      "outputs": []
    },
    {
      "cell_type": "code",
      "metadata": {
        "colab": {
          "base_uri": "https://localhost:8080/"
        },
        "id": "7aNW-eqKK8oF",
        "outputId": "d0b4692b-92a1-4496-fe9e-23ff0c671b1d"
      },
      "source": [
        "obj = A()\n",
        "bobj = B(obj)\n",
        "bobj.printf()"
      ],
      "execution_count": 3,
      "outputs": [
        {
          "output_type": "stream",
          "text": [
            "3\n"
          ],
          "name": "stdout"
        }
      ]
    },
    {
      "cell_type": "markdown",
      "metadata": {
        "id": "c0ncWY3dOBsz"
      },
      "source": [
        "### Advanced Inheritence"
      ]
    },
    {
      "cell_type": "code",
      "metadata": {
        "id": "zLT4b3obK_MS"
      },
      "source": [
        "class A:\n",
        "    \n",
        "    def __init__(self, *args, **kwargs):\n",
        "        self.a = 1 # These a and b are initialized in class A \n",
        "        self.b = 2\n",
        "        self.c = self.a + self.b"
      ],
      "execution_count": 4,
      "outputs": []
    },
    {
      "cell_type": "code",
      "metadata": {
        "id": "D9I_YMWmOFIh"
      },
      "source": [
        "class B(A):\n",
        "    \n",
        "    def __init__(self, *args, **kwargs):\n",
        "        \n",
        "        super(B, self).__init__(*args, **kwargs) # Class A a and b variables are imported here\n",
        "        \n",
        "        self.d = self.add()\n",
        "        \n",
        "    def add(self):\n",
        "        \n",
        "        return self.c + self.b\n",
        "        \n",
        "    def printf(self):\n",
        "        \n",
        "        print(self.d)"
      ],
      "execution_count": 5,
      "outputs": []
    },
    {
      "cell_type": "code",
      "metadata": {
        "id": "1jC4Y-rIOwMz"
      },
      "source": [
        "class C(B):\n",
        "\n",
        "  def __init__(self, *args, **kwargs):\n",
        "    \n",
        "    super(C, self).__init__(*args, **kwargs) # Class B variables are imported here which includes class A variables\n",
        "\n",
        "  def add1(self):\n",
        "\n",
        "    print(self.a+self.b)"
      ],
      "execution_count": 11,
      "outputs": []
    },
    {
      "cell_type": "code",
      "metadata": {
        "colab": {
          "base_uri": "https://localhost:8080/"
        },
        "id": "jKx8NSdHOI1o",
        "outputId": "91a991a5-82b0-4128-c46c-002349a40019"
      },
      "source": [
        "obj = C()\n",
        "obj.add1()"
      ],
      "execution_count": 12,
      "outputs": [
        {
          "output_type": "stream",
          "text": [
            "3\n"
          ],
          "name": "stdout"
        }
      ]
    },
    {
      "cell_type": "markdown",
      "metadata": {
        "id": "NzxeEAXniGJt"
      },
      "source": [
        "### Inheritence with parameters"
      ]
    },
    {
      "cell_type": "code",
      "metadata": {
        "id": "WlEDBhRwOLG_"
      },
      "source": [
        "class A:\n",
        "    \n",
        "  def __init__(self, a, *args, **kwargs):\n",
        "    \n",
        "      self.a = a\n",
        "      self.b = 2\n",
        "      self.c = self.a + self.b"
      ],
      "execution_count": 2,
      "outputs": []
    },
    {
      "cell_type": "code",
      "metadata": {
        "id": "FxNEdXYJiOUj"
      },
      "source": [
        "class B(A):\n",
        "    \n",
        "  def __init__(self, a, *args, **kwargs):\n",
        "      \n",
        "      super(B, self).__init__(a, *args, **kwargs)\n",
        "      \n",
        "      self.d = self.add()\n",
        "      \n",
        "  def add(self):\n",
        "      \n",
        "      return self.c + self.b\n",
        "      \n",
        "  def printf(self):\n",
        "      \n",
        "      print(self.a)"
      ],
      "execution_count": 3,
      "outputs": []
    },
    {
      "cell_type": "code",
      "metadata": {
        "colab": {
          "base_uri": "https://localhost:8080/"
        },
        "id": "c55AXSUGiVC-",
        "outputId": "aa27e21e-128e-4417-eca3-2d4b3e53c7cf"
      },
      "source": [
        "bobj = B(100)\n",
        "bobj.printf()"
      ],
      "execution_count": 4,
      "outputs": [
        {
          "output_type": "stream",
          "text": [
            "100\n"
          ],
          "name": "stdout"
        }
      ]
    },
    {
      "cell_type": "markdown",
      "metadata": {
        "id": "_dsS-qlrD8nj"
      },
      "source": [
        "### Without Args and Kwargs"
      ]
    },
    {
      "cell_type": "code",
      "metadata": {
        "id": "qcbtNeH1iYJ6"
      },
      "source": [
        "class A:\n",
        "    \n",
        "    def __init__(self, a):\n",
        "      \n",
        "        self.a = a\n",
        "        self.b = 2\n",
        "        self.c = self.a + self.b"
      ],
      "execution_count": 1,
      "outputs": []
    },
    {
      "cell_type": "code",
      "metadata": {
        "id": "9So58P_6EH3l"
      },
      "source": [
        "class B(A):\n",
        "    \n",
        "    def __init__(self, a,):\n",
        "        \n",
        "        super(B, self).__init__(a)\n",
        "        \n",
        "        self.d = self.add()\n",
        "        \n",
        "    def add(self):\n",
        "        \n",
        "        return self.c + self.b\n",
        "        \n",
        "    def printf(self):\n",
        "        \n",
        "        print(self.a)"
      ],
      "execution_count": 6,
      "outputs": []
    },
    {
      "cell_type": "code",
      "metadata": {
        "id": "DMkipFf1EL-S"
      },
      "source": [
        "class C(B):\n",
        "    \n",
        "    def __init__(self, a):\n",
        "    \n",
        "        super(C, self).__init__(a)\n",
        "    \n",
        "    def test(self):\n",
        "        \n",
        "        print(\"Am in test\")"
      ],
      "execution_count": 7,
      "outputs": []
    },
    {
      "cell_type": "code",
      "metadata": {
        "colab": {
          "base_uri": "https://localhost:8080/"
        },
        "id": "d-08QL4rEPD4",
        "outputId": "d0d0aed8-1075-407f-db3d-11c63a313cb0"
      },
      "source": [
        "bobj = C(1)\n",
        "bobj.test()"
      ],
      "execution_count": 8,
      "outputs": [
        {
          "output_type": "stream",
          "text": [
            "Am in test\n"
          ],
          "name": "stdout"
        }
      ]
    },
    {
      "cell_type": "code",
      "metadata": {
        "id": "ptQw-RkpETak"
      },
      "source": [
        ""
      ],
      "execution_count": null,
      "outputs": []
    }
  ]
}