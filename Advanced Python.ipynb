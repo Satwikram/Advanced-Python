{
  "nbformat": 4,
  "nbformat_minor": 0,
  "metadata": {
    "colab": {
      "name": "Advanced-Python.ipynb",
      "provenance": [],
      "authorship_tag": "ABX9TyO/UPI3//53tJutg48QyzVM",
      "include_colab_link": true
    },
    "kernelspec": {
      "name": "python3",
      "display_name": "Python 3"
    },
    "language_info": {
      "name": "python"
    },
    "accelerator": "TPU"
  },
  "cells": [
    {
      "cell_type": "markdown",
      "metadata": {
        "id": "view-in-github",
        "colab_type": "text"
      },
      "source": [
        "<a href=\"https://colab.research.google.com/github/Satwikram/Advanced-Python/blob/main/Advanced%20Python.ipynb\" target=\"_parent\"><img src=\"https://colab.research.google.com/assets/colab-badge.svg\" alt=\"Open In Colab\"/></a>"
      ]
    },
    {
      "cell_type": "markdown",
      "metadata": {
        "id": "MT6Cde4h8prp"
      },
      "source": [
        "### Tuple tricks"
      ]
    },
    {
      "cell_type": "code",
      "metadata": {
        "id": "dk1CY4Di5kkR"
      },
      "source": [
        "a = (1)"
      ],
      "execution_count": 6,
      "outputs": []
    },
    {
      "cell_type": "code",
      "metadata": {
        "colab": {
          "base_uri": "https://localhost:8080/"
        },
        "id": "V6sd8W-35wTr",
        "outputId": "ab44d88c-c92b-4b08-8dd0-502bc1a8554f"
      },
      "source": [
        "type(a)"
      ],
      "execution_count": 7,
      "outputs": [
        {
          "output_type": "execute_result",
          "data": {
            "text/plain": [
              "int"
            ]
          },
          "metadata": {
            "tags": []
          },
          "execution_count": 7
        }
      ]
    },
    {
      "cell_type": "markdown",
      "metadata": {
        "id": "Xy9FUCDU-x4X"
      },
      "source": [
        "### Collections"
      ]
    },
    {
      "cell_type": "markdown",
      "metadata": {
        "id": "laI-u_71arm9"
      },
      "source": [
        "#### Counter"
      ]
    },
    {
      "cell_type": "code",
      "metadata": {
        "id": "pBhvbvb79P1x"
      },
      "source": [
        "from collections import Counter"
      ],
      "execution_count": 8,
      "outputs": []
    },
    {
      "cell_type": "code",
      "metadata": {
        "id": "oMxJ2mjx_SOv"
      },
      "source": [
        "test = \"abababbaaaaaaaavvvv\""
      ],
      "execution_count": 9,
      "outputs": []
    },
    {
      "cell_type": "code",
      "metadata": {
        "colab": {
          "base_uri": "https://localhost:8080/"
        },
        "id": "QFh1Dr-uBQkI",
        "outputId": "a308cef3-abbf-4a3b-a6b9-1e5d3f93c545"
      },
      "source": [
        "Counter(test)"
      ],
      "execution_count": 10,
      "outputs": [
        {
          "output_type": "execute_result",
          "data": {
            "text/plain": [
              "Counter({'a': 11, 'b': 4, 'v': 4})"
            ]
          },
          "metadata": {
            "tags": []
          },
          "execution_count": 10
        }
      ]
    },
    {
      "cell_type": "code",
      "metadata": {
        "colab": {
          "base_uri": "https://localhost:8080/"
        },
        "id": "wPNCPFiCBSZL",
        "outputId": "df6bff66-12f6-4ccb-94c1-88a4cc16cda6"
      },
      "source": [
        "Counter(test).items()"
      ],
      "execution_count": 11,
      "outputs": [
        {
          "output_type": "execute_result",
          "data": {
            "text/plain": [
              "dict_items([('a', 11), ('b', 4), ('v', 4)])"
            ]
          },
          "metadata": {
            "tags": []
          },
          "execution_count": 11
        }
      ]
    },
    {
      "cell_type": "code",
      "metadata": {
        "id": "CzQwJ1goBbtq"
      },
      "source": [
        "counter = Counter(test)"
      ],
      "execution_count": 12,
      "outputs": []
    },
    {
      "cell_type": "code",
      "metadata": {
        "colab": {
          "base_uri": "https://localhost:8080/"
        },
        "id": "M-VlbiS2B6Il",
        "outputId": "d04bde23-5872-4c4c-b590-07cb6fc64540"
      },
      "source": [
        "counter.most_common(1)[0]"
      ],
      "execution_count": 13,
      "outputs": [
        {
          "output_type": "execute_result",
          "data": {
            "text/plain": [
              "('a', 11)"
            ]
          },
          "metadata": {
            "tags": []
          },
          "execution_count": 13
        }
      ]
    },
    {
      "cell_type": "code",
      "metadata": {
        "colab": {
          "base_uri": "https://localhost:8080/"
        },
        "id": "gNH_r6hAB84V",
        "outputId": "eb2e4771-72d1-4247-d140-5561be7f8f8a"
      },
      "source": [
        "counter.values()"
      ],
      "execution_count": 14,
      "outputs": [
        {
          "output_type": "execute_result",
          "data": {
            "text/plain": [
              "dict_values([11, 4, 4])"
            ]
          },
          "metadata": {
            "tags": []
          },
          "execution_count": 14
        }
      ]
    },
    {
      "cell_type": "markdown",
      "metadata": {
        "id": "4r9OUf3lawDY"
      },
      "source": [
        "#### NamedTuple"
      ]
    },
    {
      "cell_type": "code",
      "metadata": {
        "id": "SOluO01TCCcK"
      },
      "source": [
        "from collections import namedtuple"
      ],
      "execution_count": 15,
      "outputs": []
    },
    {
      "cell_type": "code",
      "metadata": {
        "id": "-ZpxlCoAZYt0"
      },
      "source": [
        "Point = namedtuple('Point', 'x,y')"
      ],
      "execution_count": 24,
      "outputs": []
    },
    {
      "cell_type": "code",
      "metadata": {
        "id": "JKXp1UbCZihC"
      },
      "source": [
        "pt = Point(1, -4)"
      ],
      "execution_count": 25,
      "outputs": []
    },
    {
      "cell_type": "code",
      "metadata": {
        "colab": {
          "base_uri": "https://localhost:8080/"
        },
        "id": "ZsDSPMXuZorX",
        "outputId": "de433cec-afef-4e0b-8ab6-69e794920d25"
      },
      "source": [
        "pt.x, pt.y"
      ],
      "execution_count": 26,
      "outputs": [
        {
          "output_type": "execute_result",
          "data": {
            "text/plain": [
              "(1, -4)"
            ]
          },
          "metadata": {
            "tags": []
          },
          "execution_count": 26
        }
      ]
    },
    {
      "cell_type": "markdown",
      "metadata": {
        "id": "vH9K7V7na0Q6"
      },
      "source": [
        "#### OrderedDict"
      ]
    },
    {
      "cell_type": "code",
      "metadata": {
        "id": "ZaFkJLnYZtxe"
      },
      "source": [
        "from collections import OrderedDict"
      ],
      "execution_count": 27,
      "outputs": []
    },
    {
      "cell_type": "code",
      "metadata": {
        "id": "tIQicDoQaADi"
      },
      "source": [
        "order = OrderedDict()"
      ],
      "execution_count": 28,
      "outputs": []
    },
    {
      "cell_type": "code",
      "metadata": {
        "id": "Y2ANVErgaEYm"
      },
      "source": [
        "order['a'] = 1\n",
        "order['b'] = 3"
      ],
      "execution_count": 29,
      "outputs": []
    },
    {
      "cell_type": "code",
      "metadata": {
        "colab": {
          "base_uri": "https://localhost:8080/"
        },
        "id": "aQcYUm9DaKcd",
        "outputId": "a817d174-760e-43e1-ca2d-9985c7ec4935"
      },
      "source": [
        "order"
      ],
      "execution_count": 30,
      "outputs": [
        {
          "output_type": "execute_result",
          "data": {
            "text/plain": [
              "OrderedDict([('a', 1), ('b', 3)])"
            ]
          },
          "metadata": {
            "tags": []
          },
          "execution_count": 30
        }
      ]
    },
    {
      "cell_type": "markdown",
      "metadata": {
        "id": "2JRksMGma4jB"
      },
      "source": [
        "#### DefaultDict"
      ]
    },
    {
      "cell_type": "code",
      "metadata": {
        "id": "iVMx-K_DaLja"
      },
      "source": [
        "from collections import defaultdict"
      ],
      "execution_count": 31,
      "outputs": []
    },
    {
      "cell_type": "code",
      "metadata": {
        "id": "2ffTj5U8aQg1"
      },
      "source": [
        "d = defaultdict(int)"
      ],
      "execution_count": 32,
      "outputs": []
    },
    {
      "cell_type": "code",
      "metadata": {
        "id": "QfF3yiK3aUl5"
      },
      "source": [
        "d['a'] = 1"
      ],
      "execution_count": 33,
      "outputs": []
    },
    {
      "cell_type": "code",
      "metadata": {
        "colab": {
          "base_uri": "https://localhost:8080/"
        },
        "id": "AN8EVtZ4aZ9D",
        "outputId": "676dd5a5-7988-4154-e086-c9d0fd296253"
      },
      "source": [
        "d['s'] #Won't raise the issues, it returns default value"
      ],
      "execution_count": 37,
      "outputs": [
        {
          "output_type": "execute_result",
          "data": {
            "text/plain": [
              "0"
            ]
          },
          "metadata": {
            "tags": []
          },
          "execution_count": 37
        }
      ]
    },
    {
      "cell_type": "markdown",
      "metadata": {
        "id": "5q-PmhYCa9_M"
      },
      "source": [
        "#### Deque"
      ]
    },
    {
      "cell_type": "code",
      "metadata": {
        "id": "vBjq0AgmacCC"
      },
      "source": [
        "from collections import deque"
      ],
      "execution_count": 38,
      "outputs": []
    },
    {
      "cell_type": "code",
      "metadata": {
        "id": "_CcjWz-ebGc3"
      },
      "source": [
        "dq = deque()"
      ],
      "execution_count": 53,
      "outputs": []
    },
    {
      "cell_type": "code",
      "metadata": {
        "id": "pOeeYDZ_bJRv"
      },
      "source": [
        "dq.append(1)\n",
        "dq.append(2)"
      ],
      "execution_count": 54,
      "outputs": []
    },
    {
      "cell_type": "code",
      "metadata": {
        "colab": {
          "base_uri": "https://localhost:8080/"
        },
        "id": "9GA9uL3ubn6i",
        "outputId": "7417fa67-15e0-49e6-9c11-b9440beb8f98"
      },
      "source": [
        "dq"
      ],
      "execution_count": 55,
      "outputs": [
        {
          "output_type": "execute_result",
          "data": {
            "text/plain": [
              "deque([1, 2])"
            ]
          },
          "metadata": {
            "tags": []
          },
          "execution_count": 55
        }
      ]
    },
    {
      "cell_type": "code",
      "metadata": {
        "id": "ar7KvIvObMzJ"
      },
      "source": [
        "dq.rotate(-1)"
      ],
      "execution_count": 56,
      "outputs": []
    },
    {
      "cell_type": "code",
      "metadata": {
        "colab": {
          "base_uri": "https://localhost:8080/"
        },
        "id": "p4vmagr7bqlL",
        "outputId": "26368613-fee1-4d5c-fee7-810eb666312f"
      },
      "source": [
        "dq"
      ],
      "execution_count": 57,
      "outputs": [
        {
          "output_type": "execute_result",
          "data": {
            "text/plain": [
              "deque([2, 1])"
            ]
          },
          "metadata": {
            "tags": []
          },
          "execution_count": 57
        }
      ]
    },
    {
      "cell_type": "markdown",
      "metadata": {
        "id": "MZ1Ieacyb0V7"
      },
      "source": [
        "### Itertools"
      ]
    },
    {
      "cell_type": "markdown",
      "metadata": {
        "id": "B_-WjRfXeq2Z"
      },
      "source": [
        "#### Product"
      ]
    },
    {
      "cell_type": "code",
      "metadata": {
        "id": "SVWfYKWAbbzD"
      },
      "source": [
        "from itertools import product"
      ],
      "execution_count": 58,
      "outputs": []
    },
    {
      "cell_type": "code",
      "metadata": {
        "id": "BClhkRVyb6qC"
      },
      "source": [
        "a = [1, 2]\n",
        "b = [3, 4]"
      ],
      "execution_count": 59,
      "outputs": []
    },
    {
      "cell_type": "code",
      "metadata": {
        "colab": {
          "base_uri": "https://localhost:8080/"
        },
        "id": "cfEqHRIbb_L1",
        "outputId": "78df3fe0-340c-4f54-be77-1a5dad6c4e3f"
      },
      "source": [
        "list(product(a, b))"
      ],
      "execution_count": 61,
      "outputs": [
        {
          "output_type": "execute_result",
          "data": {
            "text/plain": [
              "[(1, 3), (1, 4), (2, 3), (2, 4)]"
            ]
          },
          "metadata": {
            "tags": []
          },
          "execution_count": 61
        }
      ]
    },
    {
      "cell_type": "markdown",
      "metadata": {
        "id": "Lv3UZb0VetpK"
      },
      "source": [
        "#### Permutations"
      ]
    },
    {
      "cell_type": "code",
      "metadata": {
        "id": "YK095ICTcBWu"
      },
      "source": [
        "from itertools import permutations"
      ],
      "execution_count": 62,
      "outputs": []
    },
    {
      "cell_type": "code",
      "metadata": {
        "id": "i1S_xrBFcVk4"
      },
      "source": [
        "a = [1,2,3]"
      ],
      "execution_count": 69,
      "outputs": []
    },
    {
      "cell_type": "code",
      "metadata": {
        "colab": {
          "base_uri": "https://localhost:8080/"
        },
        "id": "WssZG9FRcO-g",
        "outputId": "c29007af-8175-46bf-8ac0-23a775576cc9"
      },
      "source": [
        "list(permutations(a))"
      ],
      "execution_count": 70,
      "outputs": [
        {
          "output_type": "execute_result",
          "data": {
            "text/plain": [
              "[(1, 2, 3), (1, 3, 2), (2, 1, 3), (2, 3, 1), (3, 1, 2), (3, 2, 1)]"
            ]
          },
          "metadata": {
            "tags": []
          },
          "execution_count": 70
        }
      ]
    },
    {
      "cell_type": "markdown",
      "metadata": {
        "id": "Sx3mFbyGew7c"
      },
      "source": [
        "#### Combinations"
      ]
    },
    {
      "cell_type": "code",
      "metadata": {
        "id": "lkZKgYfzcRj5"
      },
      "source": [
        "from itertools import combinations, combinations_with_replacement"
      ],
      "execution_count": 78,
      "outputs": []
    },
    {
      "cell_type": "code",
      "metadata": {
        "colab": {
          "base_uri": "https://localhost:8080/"
        },
        "id": "ltXEcTsGci-y",
        "outputId": "c9cd070c-f597-4e79-f0e2-8bc2bf780de7"
      },
      "source": [
        "list(combinations(a, 2))"
      ],
      "execution_count": 77,
      "outputs": [
        {
          "output_type": "execute_result",
          "data": {
            "text/plain": [
              "[(1, 2), (1, 3), (2, 3)]"
            ]
          },
          "metadata": {
            "tags": []
          },
          "execution_count": 77
        }
      ]
    },
    {
      "cell_type": "code",
      "metadata": {
        "colab": {
          "base_uri": "https://localhost:8080/"
        },
        "id": "2G0lYMoYck9_",
        "outputId": "5b4647a7-926b-4ac8-bc54-6d7908b530f0"
      },
      "source": [
        "list(combinations_with_replacement(a, 2))"
      ],
      "execution_count": 79,
      "outputs": [
        {
          "output_type": "execute_result",
          "data": {
            "text/plain": [
              "[(1, 1), (1, 2), (1, 3), (2, 2), (2, 3), (3, 3)]"
            ]
          },
          "metadata": {
            "tags": []
          },
          "execution_count": 79
        }
      ]
    },
    {
      "cell_type": "markdown",
      "metadata": {
        "id": "1IG7X-jTe0GT"
      },
      "source": [
        "#### Accumulate"
      ]
    },
    {
      "cell_type": "code",
      "metadata": {
        "id": "HKX6cmLhc49d"
      },
      "source": [
        "from itertools import accumulate"
      ],
      "execution_count": 80,
      "outputs": []
    },
    {
      "cell_type": "code",
      "metadata": {
        "colab": {
          "base_uri": "https://localhost:8080/"
        },
        "id": "4Q3AzqjvdAHH",
        "outputId": "1ea1b3db-da3c-415a-956b-65422bc18c94"
      },
      "source": [
        "a, list(accumulate(a))"
      ],
      "execution_count": 82,
      "outputs": [
        {
          "output_type": "execute_result",
          "data": {
            "text/plain": [
              "([1, 2, 3], [1, 3, 6])"
            ]
          },
          "metadata": {
            "tags": []
          },
          "execution_count": 82
        }
      ]
    },
    {
      "cell_type": "markdown",
      "metadata": {
        "id": "_-mnEEBye2xx"
      },
      "source": [
        "#### Count, Repeat, Cycle"
      ]
    },
    {
      "cell_type": "code",
      "metadata": {
        "id": "bMJ_EREjdDJS"
      },
      "source": [
        "from itertools import count, repeat, cycle"
      ],
      "execution_count": 83,
      "outputs": []
    },
    {
      "cell_type": "code",
      "metadata": {
        "id": "S5_dj5QfeS2X"
      },
      "source": [
        "for i in repeat(1):\n",
        "  print(i) # Repeats infinite"
      ],
      "execution_count": null,
      "outputs": []
    },
    {
      "cell_type": "markdown",
      "metadata": {
        "id": "s2MtTjpRe-8K"
      },
      "source": [
        "### Lambda Functions"
      ]
    },
    {
      "cell_type": "markdown",
      "metadata": {
        "id": "sWlUKAZTfmOO"
      },
      "source": [
        "#### Basic Lambda"
      ]
    },
    {
      "cell_type": "code",
      "metadata": {
        "id": "iUmt4rYDeWv6"
      },
      "source": [
        "mult = lambda x, y: x*y"
      ],
      "execution_count": 86,
      "outputs": []
    },
    {
      "cell_type": "code",
      "metadata": {
        "colab": {
          "base_uri": "https://localhost:8080/"
        },
        "id": "9A8ZyPR6fLyN",
        "outputId": "05d120b6-6a71-4c32-ea55-aea0f8c9a3af"
      },
      "source": [
        "mult(2, 100)"
      ],
      "execution_count": 87,
      "outputs": [
        {
          "output_type": "execute_result",
          "data": {
            "text/plain": [
              "200"
            ]
          },
          "metadata": {
            "tags": []
          },
          "execution_count": 87
        }
      ]
    },
    {
      "cell_type": "markdown",
      "metadata": {
        "id": "iEid_vx_foWV"
      },
      "source": [
        "#### Sorted"
      ]
    },
    {
      "cell_type": "code",
      "metadata": {
        "id": "bx1HjFTrfOuX"
      },
      "source": [
        "points2d = [(1, 3), (1, -5), (-1, 3)]"
      ],
      "execution_count": 91,
      "outputs": []
    },
    {
      "cell_type": "code",
      "metadata": {
        "colab": {
          "base_uri": "https://localhost:8080/"
        },
        "id": "I-IVg5h6fk36",
        "outputId": "83f34d06-e52c-4be1-c240-2c1da77f28d6"
      },
      "source": [
        "sorted(points2d)"
      ],
      "execution_count": 92,
      "outputs": [
        {
          "output_type": "execute_result",
          "data": {
            "text/plain": [
              "[(-1, 3), (1, -5), (1, 3)]"
            ]
          },
          "metadata": {
            "tags": []
          },
          "execution_count": 92
        }
      ]
    },
    {
      "cell_type": "code",
      "metadata": {
        "colab": {
          "base_uri": "https://localhost:8080/"
        },
        "id": "k694JnURfsI1",
        "outputId": "b03b164d-c267-455c-cd41-0d76f5c2e45e"
      },
      "source": [
        "sorted(points2d, key = lambda x: x[1])"
      ],
      "execution_count": 93,
      "outputs": [
        {
          "output_type": "execute_result",
          "data": {
            "text/plain": [
              "[(1, -5), (1, 3), (-1, 3)]"
            ]
          },
          "metadata": {
            "tags": []
          },
          "execution_count": 93
        }
      ]
    },
    {
      "cell_type": "markdown",
      "metadata": {
        "id": "YK-j7h5IgSny"
      },
      "source": [
        "### Map"
      ]
    },
    {
      "cell_type": "code",
      "metadata": {
        "id": "ETy6gHRmf7VE"
      },
      "source": [
        "m = [1, 2, 3, 4, 5]"
      ],
      "execution_count": 94,
      "outputs": []
    },
    {
      "cell_type": "code",
      "metadata": {
        "id": "70fKjar4gXNa"
      },
      "source": [
        "fun = map(lambda x: x*2, m)"
      ],
      "execution_count": 95,
      "outputs": []
    },
    {
      "cell_type": "code",
      "metadata": {
        "colab": {
          "base_uri": "https://localhost:8080/"
        },
        "id": "Y8kr58SZgdBz",
        "outputId": "0917e652-8131-49f9-8c9d-6859e7531f28"
      },
      "source": [
        "list(fun)"
      ],
      "execution_count": 97,
      "outputs": [
        {
          "output_type": "execute_result",
          "data": {
            "text/plain": [
              "[2, 4, 6, 8, 10]"
            ]
          },
          "metadata": {
            "tags": []
          },
          "execution_count": 97
        }
      ]
    },
    {
      "cell_type": "markdown",
      "metadata": {
        "id": "W1i1FwsuhvMi"
      },
      "source": [
        "#### filter"
      ]
    },
    {
      "cell_type": "code",
      "metadata": {
        "id": "RvdEYkEigduX"
      },
      "source": [
        "fil = filter(lambda x: x%2 == 0, m)"
      ],
      "execution_count": 98,
      "outputs": []
    },
    {
      "cell_type": "code",
      "metadata": {
        "colab": {
          "base_uri": "https://localhost:8080/"
        },
        "id": "STb56Fbag4sP",
        "outputId": "8dd8a4db-62da-4797-a407-2146089b6a25"
      },
      "source": [
        "list(fil)"
      ],
      "execution_count": 99,
      "outputs": [
        {
          "output_type": "execute_result",
          "data": {
            "text/plain": [
              "[2, 4]"
            ]
          },
          "metadata": {
            "tags": []
          },
          "execution_count": 99
        }
      ]
    },
    {
      "cell_type": "code",
      "metadata": {
        "colab": {
          "base_uri": "https://localhost:8080/"
        },
        "id": "u_ahrOTZg58U",
        "outputId": "eeae636f-75ef-4c98-cc92-227ef4968ca9"
      },
      "source": [
        "[i for i in m if i % 2 == 0] #List method"
      ],
      "execution_count": 102,
      "outputs": [
        {
          "output_type": "execute_result",
          "data": {
            "text/plain": [
              "[2, 4]"
            ]
          },
          "metadata": {
            "tags": []
          },
          "execution_count": 102
        }
      ]
    },
    {
      "cell_type": "markdown",
      "metadata": {
        "id": "Qviy-u-ChSGj"
      },
      "source": [
        "### Functools"
      ]
    },
    {
      "cell_type": "code",
      "metadata": {
        "id": "bXBBp0XJhBu6"
      },
      "source": [
        "from functools import reduce"
      ],
      "execution_count": 103,
      "outputs": []
    },
    {
      "cell_type": "code",
      "metadata": {
        "colab": {
          "base_uri": "https://localhost:8080/"
        },
        "id": "Eegl7RtGhU8s",
        "outputId": "b0c26cd6-6e49-4e57-ec35-31cfce5d1aa9"
      },
      "source": [
        "reduce(lambda x, y: x*y, m)"
      ],
      "execution_count": 105,
      "outputs": [
        {
          "output_type": "execute_result",
          "data": {
            "text/plain": [
              "120"
            ]
          },
          "metadata": {
            "tags": []
          },
          "execution_count": 105
        }
      ]
    },
    {
      "cell_type": "markdown",
      "metadata": {
        "id": "_A00QiBRiC1E"
      },
      "source": [
        "### Exceptions"
      ]
    },
    {
      "cell_type": "code",
      "metadata": {
        "id": "3TmxAYgGhaRD"
      },
      "source": [
        "e = 7"
      ],
      "execution_count": 108,
      "outputs": []
    },
    {
      "cell_type": "markdown",
      "metadata": {
        "id": "nc6lC4Ikiv3l"
      },
      "source": [
        "#### Exception raise"
      ]
    },
    {
      "cell_type": "code",
      "metadata": {
        "colab": {
          "base_uri": "https://localhost:8080/",
          "height": 183
        },
        "id": "q0iwXGKiidnL",
        "outputId": "7a20c570-e953-4bbd-9793-d27142516220"
      },
      "source": [
        "if e > 5:\n",
        "  raise Exception(\"Greater than 5 not supported\")"
      ],
      "execution_count": 109,
      "outputs": [
        {
          "output_type": "error",
          "ename": "Exception",
          "evalue": "ignored",
          "traceback": [
            "\u001b[0;31m---------------------------------------------------------------------------\u001b[0m",
            "\u001b[0;31mException\u001b[0m                                 Traceback (most recent call last)",
            "\u001b[0;32m<ipython-input-109-093f4bca234d>\u001b[0m in \u001b[0;36m<module>\u001b[0;34m()\u001b[0m\n\u001b[1;32m      1\u001b[0m \u001b[0;32mif\u001b[0m \u001b[0me\u001b[0m \u001b[0;34m>\u001b[0m \u001b[0;36m5\u001b[0m\u001b[0;34m:\u001b[0m\u001b[0;34m\u001b[0m\u001b[0;34m\u001b[0m\u001b[0m\n\u001b[0;32m----> 2\u001b[0;31m   \u001b[0;32mraise\u001b[0m \u001b[0mException\u001b[0m\u001b[0;34m(\u001b[0m\u001b[0;34m\"Greater than 5 not supported\"\u001b[0m\u001b[0;34m)\u001b[0m\u001b[0;34m\u001b[0m\u001b[0;34m\u001b[0m\u001b[0m\n\u001b[0m",
            "\u001b[0;31mException\u001b[0m: Greater than 5 not supported"
          ]
        }
      ]
    },
    {
      "cell_type": "markdown",
      "metadata": {
        "id": "_A7u3IcaizPu"
      },
      "source": [
        "#### Assert"
      ]
    },
    {
      "cell_type": "code",
      "metadata": {
        "id": "-jY743_4jDnh"
      },
      "source": [
        "e = -1"
      ],
      "execution_count": null,
      "outputs": []
    },
    {
      "cell_type": "code",
      "metadata": {
        "colab": {
          "base_uri": "https://localhost:8080/",
          "height": 166
        },
        "id": "zp_KS_9Qikz2",
        "outputId": "b1b757dd-7d4c-4231-a0bf-9ce4f00a4f7f"
      },
      "source": [
        "assert(e < 0), \"Only Positive\""
      ],
      "execution_count": 112,
      "outputs": [
        {
          "output_type": "error",
          "ename": "AssertionError",
          "evalue": "ignored",
          "traceback": [
            "\u001b[0;31m---------------------------------------------------------------------------\u001b[0m",
            "\u001b[0;31mAssertionError\u001b[0m                            Traceback (most recent call last)",
            "\u001b[0;32m<ipython-input-112-661ac9f3031d>\u001b[0m in \u001b[0;36m<module>\u001b[0;34m()\u001b[0m\n\u001b[0;32m----> 1\u001b[0;31m \u001b[0;32massert\u001b[0m\u001b[0;34m(\u001b[0m\u001b[0me\u001b[0m \u001b[0;34m<\u001b[0m \u001b[0;36m0\u001b[0m\u001b[0;34m)\u001b[0m\u001b[0;34m,\u001b[0m \u001b[0;34m\"Only Positive\"\u001b[0m\u001b[0;34m\u001b[0m\u001b[0;34m\u001b[0m\u001b[0m\n\u001b[0m",
            "\u001b[0;31mAssertionError\u001b[0m: Only Positive"
          ]
        }
      ]
    },
    {
      "cell_type": "markdown",
      "metadata": {
        "id": "fWdLB2Wjkoga"
      },
      "source": [
        "### Logging"
      ]
    },
    {
      "cell_type": "markdown",
      "metadata": {
        "id": "cA93X922vkcu"
      },
      "source": [
        "#### Basic Logger"
      ]
    },
    {
      "cell_type": "code",
      "metadata": {
        "id": "meaBWi7Ni8Qf"
      },
      "source": [
        "import logging"
      ],
      "execution_count": 113,
      "outputs": []
    },
    {
      "cell_type": "code",
      "metadata": {
        "id": "WloJJEaAk6vJ"
      },
      "source": [
        "logger = logging.getLogger(__name__)"
      ],
      "execution_count": 114,
      "outputs": []
    },
    {
      "cell_type": "code",
      "metadata": {
        "id": "xNsrNYVNlsnP"
      },
      "source": [
        "logger.info(\"Hello\")"
      ],
      "execution_count": 115,
      "outputs": []
    },
    {
      "cell_type": "code",
      "metadata": {
        "colab": {
          "base_uri": "https://localhost:8080/"
        },
        "id": "dKzVNYRAlupL",
        "outputId": "75f0781d-b8a6-455e-ebf5-f69d39616ef0"
      },
      "source": [
        "try:\n",
        "  print(1/0)\n",
        "\n",
        "except Exception as e:\n",
        "  logging.error(e, exc_info = True)\n",
        "\n",
        "print(\"okay\")"
      ],
      "execution_count": 117,
      "outputs": [
        {
          "output_type": "stream",
          "text": [
            "ERROR:root:division by zero\n",
            "Traceback (most recent call last):\n",
            "  File \"<ipython-input-117-26dfd842b358>\", line 2, in <module>\n",
            "    print(1/0)\n",
            "ZeroDivisionError: division by zero\n"
          ],
          "name": "stderr"
        },
        {
          "output_type": "stream",
          "text": [
            "okay\n"
          ],
          "name": "stdout"
        }
      ]
    },
    {
      "cell_type": "markdown",
      "metadata": {
        "id": "pLr-a3RzvfFr"
      },
      "source": [
        "#### Rotating File Handler"
      ]
    },
    {
      "cell_type": "code",
      "metadata": {
        "id": "0VeAq5f0nvIe"
      },
      "source": [
        "from logging.handlers import RotatingFileHandler"
      ],
      "execution_count": 165,
      "outputs": []
    },
    {
      "cell_type": "code",
      "metadata": {
        "id": "9kQ6zK6aqAfS"
      },
      "source": [
        "logger = logging.getLogger(__name__)\n",
        "logger.setLevel(logging.DEBUG)"
      ],
      "execution_count": 166,
      "outputs": []
    },
    {
      "cell_type": "code",
      "metadata": {
        "id": "rW47vISCoqqu"
      },
      "source": [
        "handler = RotatingFileHandler('app2.txt')"
      ],
      "execution_count": 167,
      "outputs": []
    },
    {
      "cell_type": "code",
      "metadata": {
        "id": "HoYcDiFEo-PL"
      },
      "source": [
        "logger.addHandler(handler)\n",
        "logger.propagate = False"
      ],
      "execution_count": 168,
      "outputs": []
    },
    {
      "cell_type": "code",
      "metadata": {
        "id": "6KxLZcv6pKBb"
      },
      "source": [
        "try:\n",
        "  print(1/0)\n",
        "\n",
        "except Exception as e:\n",
        "  logger.error(e, exc_info = True)\n",
        "\n",
        "try:\n",
        "  '1'+1\n",
        "except Exception as e:\n",
        "  logger.info(\"\\n\")\n",
        "  logger.error(e, exc_info = True)"
      ],
      "execution_count": 169,
      "outputs": []
    },
    {
      "cell_type": "code",
      "metadata": {
        "id": "oLpASrN1pS2_"
      },
      "source": [
        ""
      ],
      "execution_count": null,
      "outputs": []
    }
  ]
}